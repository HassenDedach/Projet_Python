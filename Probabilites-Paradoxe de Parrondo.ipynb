{
 "cells": [
  {
   "cell_type": "code",
   "execution_count": null,
   "id": "224d4a86",
   "metadata": {},
   "outputs": [],
   "source": [
    "from random import *\n",
    "\n",
    "\n",
    "def Tirage_jeu_A():\n",
    "    n = random()\n",
    "    if  n < 0.49:\n",
    "        v = 1\n",
    "    else :\n",
    "        v = -1\n",
    "    return v\n",
    "tirage_jeu_A()\n",
    "\n"
   ]
  },
  {
   "cell_type": "code",
   "execution_count": null,
   "id": "2a9f4445",
   "metadata": {},
   "outputs": [],
   "source": [
    "from random import *\n",
    "def Gain_jeu_A(N):\n",
    "    GT=0\n",
    "    for i in range(N):\n",
    "        v=Tirage_jeu_A()\n",
    "        print(v)\n",
    "        GT+=v\n",
    "    return GT\n",
    "Gain_jeu_A(10)"
   ]
  },
  {
   "cell_type": "code",
   "execution_count": null,
   "id": "3e085470",
   "metadata": {},
   "outputs": [],
   "source": [
    "from random import *\n",
    "def Esperence_jeu_A(N):\n",
    "    gt=Gain_jeu_A(N)\n",
    "    E=gt/N\n",
    "    return E\n",
    "Esperence_jeu_A(10)\n"
   ]
  },
  {
   "cell_type": "code",
   "execution_count": 4,
   "id": "97ee5815",
   "metadata": {},
   "outputs": [
    {
     "data": {
      "text/plain": [
       "1"
      ]
     },
     "execution_count": 4,
     "metadata": {},
     "output_type": "execute_result"
    }
   ],
   "source": [
    "from random import *\n",
    "def sous_jeu_B1():\n",
    "    v=random()\n",
    "    if v<0.09:\n",
    "        return +1\n",
    "    else:\n",
    "        return -1\n",
    "    \n",
    "def sous_jeu_B2():\n",
    "    v=random()\n",
    "    if v<0.74:\n",
    "        return +1\n",
    "    else:\n",
    "        return -1\n",
    "    \n",
    "def Tirage_jeu_B(g):\n",
    "    if(g%3==0):\n",
    "        g=sous_jeu_B1()\n",
    "    else:\n",
    "        g=sous_jeu_B2()\n",
    "    return g\n",
    "Tirage_jeu_B(0)"
   ]
  },
  {
   "cell_type": "code",
   "execution_count": 6,
   "id": "ae765dc0",
   "metadata": {},
   "outputs": [
    {
     "data": {
      "text/plain": [
       "-6"
      ]
     },
     "execution_count": 6,
     "metadata": {},
     "output_type": "execute_result"
    }
   ],
   "source": [
    "def Gain_jeu_B(N):\n",
    "    g=0\n",
    "    for i in range(N):\n",
    "        v=Tirage_jeu_B(g)\n",
    "        g+=v\n",
    "    return g\n",
    "Gain_jeu_B(1000000)"
   ]
  },
  {
   "cell_type": "code",
   "execution_count": null,
   "id": "1890dc90",
   "metadata": {},
   "outputs": [],
   "source": [
    "def Esperence_jeu_B(N):\n",
    "    E=Gain_jeu_B(N)/N\n",
    "    return E\n",
    "Esperence_jeu_B(1000000)"
   ]
  },
  {
   "cell_type": "code",
   "execution_count": null,
   "id": "683c45f4",
   "metadata": {},
   "outputs": [],
   "source": [
    "from random import*\n",
    "def Tirage_jeu_AB(g):\n",
    "    n=random()\n",
    "    if(n<0.5):\n",
    "        g=Tirage_jeu_A()\n",
    "    else:\n",
    "        g=Tirage_jeu_B(g)\n",
    "    return g\n",
    "Tirage_jeu_AB(0)"
   ]
  },
  {
   "cell_type": "code",
   "execution_count": null,
   "id": "c9e69502",
   "metadata": {},
   "outputs": [],
   "source": [
    "def Gain_jeu_AB(N):\n",
    "    g=0\n",
    "    for i in range (N):\n",
    "        v=Tirage_jeu_AB(g)\n",
    "        g+=v\n",
    "    return g\n",
    "Gain_jeu_AB(1000000)"
   ]
  },
  {
   "cell_type": "code",
   "execution_count": null,
   "id": "8cc73943",
   "metadata": {},
   "outputs": [],
   "source": [
    "def Esperence_jeu_AB(N):\n",
    "    g=Gain_jeu_AB(N)\n",
    "    E=g/N\n",
    "    return E\n",
    "Esperence_jeu_AB(1000000)"
   ]
  }
 ],
 "metadata": {
  "kernelspec": {
   "display_name": "Python 3 (ipykernel)",
   "language": "python",
   "name": "python3"
  },
  "language_info": {
   "codemirror_mode": {
    "name": "ipython",
    "version": 3
   },
   "file_extension": ".py",
   "mimetype": "text/x-python",
   "name": "python",
   "nbconvert_exporter": "python",
   "pygments_lexer": "ipython3",
   "version": "3.9.7"
  }
 },
 "nbformat": 4,
 "nbformat_minor": 5
}
