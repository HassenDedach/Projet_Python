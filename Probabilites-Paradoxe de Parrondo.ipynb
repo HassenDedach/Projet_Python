{
 "cells": [
  {
   "cell_type": "code",
   "execution_count": null,
   "id": "224d4a86",
   "metadata": {},
   "outputs": [],
   "source": [
    "from random import *\n",
    "\n",
    "def Tirage_jeu_A():\n",
    "    n = random()\n",
    "    \n",
    "    if  n < 0.49:\n",
    "        v= +1\n",
    "    else:\n",
    "        v= -1\n",
    "    return v\n",
    "#print(Tirage_jeu_A())\n",
    "\n"
   ]
  },
  {
   "cell_type": "code",
   "execution_count": null,
   "id": "2a9f4445",
   "metadata": {},
   "outputs": [],
   "source": [
    "from random import *\n",
    "def Gain_jeu_A(N):\n",
    "    GT=0\n",
    "    NG=0\n",
    "    NP=0\n",
    "    for i in range(N):\n",
    "        v=Tirage_jeu_A()\n",
    "        if(v==1):\n",
    "            NG+=v\n",
    "        else:\n",
    "            NP-=1\n",
    "        GT+=v\n",
    "    print(\"Gain total :\",GT)\n",
    "    print(\"Gagné \",NG,\"fois\")\n",
    "    print(\"perdu \",NP,\"fois\")\n",
    "    return GT"
   ]
  },
  {
   "cell_type": "code",
   "execution_count": null,
   "id": "3e085470",
   "metadata": {},
   "outputs": [],
   "source": [
    "from random import *\n",
    "def Esperence_jeu_A(N):\n",
    "    gt=Gain_jeu_A(N)\n",
    "    E=gt/N\n",
    "    return E\n",
    "print(\"Esperence: \",Esperence_jeu_A(1000000))\n"
   ]
  },
  {
   "cell_type": "code",
   "execution_count": 4,
   "id": "97ee5815",
   "metadata": {},
   "outputs": [
    {
     "data": {
      "text/plain": [
       "1"
      ]
     },
     "execution_count": 4,
     "metadata": {},
     "output_type": "execute_result"
    }
   ],
   "source": [
    "from random import *\n",
    "def sous_jeu_B1():\n",
    "    v=random()\n",
    "    if v<0.09:\n",
    "        return +1\n",
    "    else:\n",
    "        return -1\n",
    "    \n",
    "def sous_jeu_B2():\n",
    "    v=random()\n",
    "    if v<0.74:\n",
    "        return +1\n",
    "    else:\n",
    "        return -1\n",
    "    \n",
    "def Tirage_jeu_B(g):\n",
    "    if(g%3==0):\n",
    "        g=sous_jeu_B1()\n",
    "    else:\n",
    "        g=sous_jeu_B2()\n",
    "    return g\n",
    "#print(Tirage_jeu_B(0))\n"
   ]
  },
  {
   "cell_type": "code",
   "execution_count": 6,
   "id": "ae765dc0",
   "metadata": {},
   "outputs": [
    {
     "data": {
      "text/plain": [
       "-6"
      ]
     },
     "execution_count": 6,
     "metadata": {},
     "output_type": "execute_result"
    }
   ],
   "source": [
    "def Gain_jeu_B(N):\n",
    "    g=0\n",
    "    ng=0\n",
    "    np=0\n",
    "    for i in range(N):\n",
    "        v=Tirage_jeu_B(g)\n",
    "        if(v==1):\n",
    "            ng+=1\n",
    "        else:\n",
    "            np-=1\n",
    "        g+=v\n",
    "    print(\"Gain: \",g)\n",
    "    print(\"Gagné \",ng,\"fois\")\n",
    "    print(\"perdu \",np,\"fois\")\n",
    "    return g\n",
    "#print(Gain_jeu_B(1000000))"
   ]
  },
  {
   "cell_type": "code",
   "execution_count": null,
   "id": "1890dc90",
   "metadata": {},
   "outputs": [],
   "source": [
    "def Esperence_jeu_B(N):\n",
    "    E=Gain_jeu_B(N)/N\n",
    "    return E\n",
    "print(\"Esperence: \",Esperence_jeu_B(1000000))"
   ]
  },
  {
   "cell_type": "code",
   "execution_count": null,
   "id": "683c45f4",
   "metadata": {},
   "outputs": [],
   "source": [
    "from random import*\n",
    "def Tirage_jeu_AB(g):\n",
    "    n=random()\n",
    "    if(n<0.5):\n",
    "        g=Tirage_jeu_A()\n",
    "    else:\n",
    "        g=Tirage_jeu_B(g)\n",
    "    return g\n",
    "#print(Tirage_jeu_AB(0))"
   ]
  },
  {
   "cell_type": "code",
   "execution_count": null,
   "id": "c9e69502",
   "metadata": {},
   "outputs": [],
   "source": [
    "def Gain_jeu_AB(N):\n",
    "    g=0\n",
    "    ng,np=0,0\n",
    "    for i in range (N):\n",
    "        v=Tirage_jeu_AB(g)\n",
    "        if(v==1):\n",
    "            ng+=1\n",
    "        else:\n",
    "            np-=1\n",
    "        g+=v\n",
    "    print(\"gain : \",g)\n",
    "    print(\"gagné \",ng,\"fois\")\n",
    "    print(\"perdu \",np,\"fois\")\n",
    "    return g\n",
    "#print(Gain_jeu_AB(1000000))"
   ]
  },
  {
   "cell_type": "code",
   "execution_count": null,
   "id": "8cc73943",
   "metadata": {},
   "outputs": [],
   "source": [
    "def Esperence_jeu_AB(N):\n",
    "    g=Gain_jeu_AB(N)\n",
    "    E=g/N\n",
    "    return E\n",
    "print(\"Esperence: \",Esperence_jeu_AB(1000000))"
   ]
  },
  {
   "cell_type": "code",
   "execution_count": null,
   "id": "39b7670d",
   "metadata": {},
   "outputs": [],
   "source": [
    "from tkinter import *\n",
    "paradoxe=Tk()\n",
    "paradoxe.geometry('500x500+300+150')\n",
    "\n",
    "\n",
    "def Gain_jeu_A():\n",
    "    N=int(n.get())\n",
    "    GT,NG,NP=0,0,0\n",
    "    for i in range(N):\n",
    "        v=Tirage_jeu_A()\n",
    "        if(v==1):\n",
    "            NG+=v\n",
    "        else:\n",
    "            NP-=1\n",
    "        GT+=v\n",
    "        E=GT/N\n",
    "    #return GT\n",
    "    dl=Label(paradoxe,text='Gagné :').place(x=120,y=65)\n",
    "    dl=Label(paradoxe,text='Perdu :').place(x=120,y=90)\n",
    "    dl=Label(paradoxe,text='Gain :').place(x=120,y=120)\n",
    "    dl=Label(paradoxe,text='Espérence :').place(x=115,y=150)\n",
    "\n",
    "    d=Label(paradoxe,text=NG).place(x=180,y=65)\n",
    "    d1=Label(paradoxe,text=NP).place(x=180,y=90)\n",
    "    d2=Label(paradoxe,text=GT).place(x=180,y=120)\n",
    "    d2=Label(paradoxe,text=E).place(x=180,y=150)\n",
    "\n",
    "\n",
    "    \n",
    "def Gain_jeu_B():\n",
    "    N=int(n.get())\n",
    "    g,ng,np=0,0,0\n",
    "    for i in range(N):\n",
    "        v=Tirage_jeu_B(g)\n",
    "        if(v==1):\n",
    "            ng+=1\n",
    "        else:\n",
    "            np-=1\n",
    "        g+=v\n",
    "    e=g/N\n",
    "    dl=Label(paradoxe,text='Gagné :').place(x=240,y=65)\n",
    "    dl=Label(paradoxe,text='Perdu :').place(x=240,y=90)\n",
    "    dl=Label(paradoxe,text='Gain :').place(x=240,y=120)\n",
    "    dl=Label(paradoxe,text='Espérence :').place(x=240,y=150)\n",
    "\n",
    "    d=Label(paradoxe,text=ng).place(x=300,y=65)\n",
    "    d1=Label(paradoxe,text=np).place(x=300,y=90)\n",
    "    d2=Label(paradoxe,text=g).place(x=300,y=120)\n",
    "    d2=Label(paradoxe,text=e).place(x=300,y=150)\n",
    "\n",
    "\n",
    "    \n",
    "def Gain_jeu_AB():\n",
    "    N=int(n.get())\n",
    "    g=0\n",
    "    ng,np=0,0\n",
    "    for i in range (N):\n",
    "        v=Tirage_jeu_AB(g)\n",
    "        if(v==1):\n",
    "            ng+=1\n",
    "        else:\n",
    "            np-=1\n",
    "        g+=v\n",
    "    e=g/N\n",
    "    dl=Label(paradoxe,text='Gagné :').place(x=350,y=65)\n",
    "    dl=Label(paradoxe,text='Perdu :').place(x=350,y=90)\n",
    "    dl=Label(paradoxe,text='Gain :').place(x=350,y=120)\n",
    "    dl=Label(paradoxe,text='Espérence :').place(x=350,y=150)\n",
    "\n",
    "    d=Label(paradoxe,text=ng).place(x=410,y=65)\n",
    "    d1=Label(paradoxe,text=np).place(x=410,y=90)\n",
    "    d2=Label(paradoxe,text=g).place(x=410,y=120)\n",
    "    d2=Label(paradoxe,text=e).place(x=410,y=150)\n",
    "    \n",
    "\n",
    "\n",
    "\n",
    "Nn=IntVar()\n",
    "l=Label(paradoxe,text=\"Nombre de jeu :\").place(x=100,y=5)\n",
    "n=Entry(paradoxe,textvariable=\"Nn\")\n",
    "n.place(x=200,y=5)\n",
    "Bt=Button(paradoxe,text=\"Jeu A\",command=Gain_jeu_A,padx=10,pady=10).place(x=140,y=35)\n",
    "Btb=Button(paradoxe,text=\"Jeu B\",command=Gain_jeu_B,padx=10,pady=10).place(x=245,y=35)\n",
    "Btab=Button(paradoxe,text=\"Jeu AB\",command=Gain_jeu_AB,padx=10,pady=10).place(x=345,y=35)\n",
    "\n",
    "\n",
    "paradoxe.mainloop()"
   ]
  }
 ],
 "metadata": {
  "kernelspec": {
   "display_name": "Python 3 (ipykernel)",
   "language": "python",
   "name": "python3"
  },
  "language_info": {
   "codemirror_mode": {
    "name": "ipython",
    "version": 3
   },
   "file_extension": ".py",
   "mimetype": "text/x-python",
   "name": "python",
   "nbconvert_exporter": "python",
   "pygments_lexer": "ipython3",
   "version": "3.9.7"
  }
 },
 "nbformat": 4,
 "nbformat_minor": 5
}
